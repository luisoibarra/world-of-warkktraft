{
 "cells": [
  {
   "cell_type": "markdown",
   "metadata": {},
   "source": [
    "# Castle Defense\n",
    "\n",
    "Estás en un castillo que será asediado por una fuerza que te supera, por suerte tu salvación se encuentra a unos N días de espera. Tu misión es resistir hasta que lleguen los refuerzos. En los almacenes del castillo se tienes unos recursos X los cuales te ayudarán. \n",
    "\n",
    "Entre tus filas cuentas con una fuerza de A artesanos para confeccionar las armas necesarias y G guerreros para defenderte. Las armas se pueden demorar varios dias en construirse y necesitan ser utilizadas por uno o varios guerreros para que sean efectivas.\n",
    "\n",
    "El enemigo tardará unos D días en llegar y luego atacará en oleadas cada vez más fuertes, aprovecha el tiempo que tienes para irte preparando para la dura batalla, construye armas que puedan contener las arremetidas furiosas de los malvados que quieren tomar las vidas de tus súbditos, en las batallas asígnales estas armas a tus guerreros para que puedan luchar. Si todo sale bien seguro saldrás victorioso.\n",
    "\n",
    "Suerte, esperemos que no queden solo ruinas para los aliados.\n",
    "\n",
    "## Definición de variables y constantes\n",
    "\n",
    "| Nombre | Variable/Constante/Calculable | Descripción |\n",
    "| -- | -- | -- |\n",
    "| $total\\_artesanos$  | Constante | Cantidad total de artesanos |\n",
    "| $total\\_guerreros$  | Constante | Cantidad total de guerreros |\n",
    "| $artes\\_necesarios\\_arma_j$ | Constante | Artesanos necesarios para construir el arma j |\n",
    "| $costo\\_recurso\\_i\\_arma\\_j_{ij}$ | Constante | Coste del recurso i para construir el arma j |\n",
    "| $guer\\_neces\\_usar\\_arma_j$ | Constante| Cantidad de guerreros necesarios para usar el arma j |\n",
    "| $ataq\\_enemi_i$ | Constante | Poder del ataque enemigo el día i |\n",
    "| $daño\\_arma_j$ | Constante | Daño del arma j |\n",
    "| $capacidad\\_recolecc\\_recurso_j$ | Constante | Capacidad que se puede recolectar por un artesano del recurso por turno j |\n",
    "| $cost\\_dia\\_i\\_recurso\\_j_{ij}$| Calculable | Coste total en el día i del recurso j |\n",
    "| $arts\\_dia\\_i\\_arma\\_j_{ij}$ | Variable | Artesanos asignados el dia i a construir el arma j |\n",
    "| $arts\\_dia\\_i\\_recurs\\_j_{ij}$ | Variable | Artesanos asignados el dia i a minar el recurso j |\n",
    "| $recurso\\_j\\_dia\\_i_{ij}$ | Variable | Recurso j en el día i |\n",
    "| $armas\\_j\\_const\\_dia\\_i_{ij}$ | Variable | Armas construídas el día i de tipo j |\n",
    "| $guerr\\_dia\\_i\\_con_arma\\_j_{ij}$ | Variable | Guerreros armados el día i con el arma j |\n",
    "| $arma\\_j\\_uso\\_dia\\_i{ij}$ | Variable | Armas j en uso el día i |\n",
    "| $arma\\_j\\_uso\\_dia\\_i{ij}$ | Variable | Armas j en uso el día i |\n",
    "\n",
    "## Restricciones\n",
    "\n",
    "Para todo día i: \n",
    "\n",
    "- $\\sum_j arts\\_dia\\_i\\_arma\\_j_{ij} + arts\\_dia\\_i\\_recurs\\_j_{ij} \\le total\\_artesanos$ : La asignación de artesanos no puede superar la cantidad de ellos\n",
    "- $\\forall_j arts\\_dia\\_i\\_arma\\_j_{ij} = artes\\_necesarios\\_arma_j armas\\_j\\_const\\_dia\\_i_{(i+1)j}$ : La asiganción de artesanos a construir el arma j tiene que satisfacer la cantidad necesaria para realizar la tarea\n",
    "- $\\forall_j cost\\_dia\\_i\\_recurso\\_j_{ij} = \\sum_z cw_{jz} armas\\_j\\_const\\_dia\\_i_{(i+1)z} \\le r_{ij}$ : Tienen que existir los recursos para construir las armas asociadas al día\n",
    "- $\\forall_j recurso\\_j\\_dia\\_i_{(i+1)j} = recurso\\_j\\_dia\\_i_{ij} - cost\\_dia\\_i\\_recurso\\_j_{ij} + arts\\_dia\\_i\\_recurs\\_j_{ij} * capacidad\\_recolecc\\_recurso_j $ : Actualización de los recursos por día\n",
    "- $\\sum_j guerr\\_dia\\_i\\_con\\_arma\\_j_{ij} \\le total\\_guerreros$ : Los guerreros asociados a las armas no pueden superar el máximo\n",
    "- $\\forall_j arma\\_j\\_uso\\_dia\\_i_{ij} guer\\_neces\\_usar\\_arma_j = guerr\\_dia\\_i\\_con\\_arma\\_j_{ij} $ : Las armas tienen la cantidad de guerreros suficiente para operar\n",
    "- $\\sum_j arma\\_j\\_uso\\_dia\\_i_{ij} daño\\_arma_j \\ge ataq\\_enemi_i $ El poder de ataque tiene que ser superior al ataque del enemigo\n",
    "- $\\forall_j arma\\_j\\_uso\\_dia\\_i_{ij} \\le \\sum_k^{i-1} armas\\_j\\_const\\_dia\\_i_{kj}$ : Las armas tienen que existir para poder usarse\n",
    "\n",
    "### Observaciones\n",
    "\n",
    "Para modelar los días de espera para el ataque se tiene que los primeros elementos de $ataq_enemi$ son ceros.\n",
    "\n",
    "Los recursos iniciales se pueden asignar poniendo restricciones al problema tales como:\n",
    "\n",
    "- $r_{0j} = r_j^0$\n",
    "\n",
    "Se pueden asignar una cantidad de armas iniciales, aunque en este caso se deja en cero por defecto:\n",
    "\n",
    "- $armas\\_j\\_const\\_dia\\_i_{0,j} = armas\\_j\\_const\\_dia_{ij}^0$\n",
    "\n",
    "Falta modelar la cantidad de días necesarios para construir un arma, esto se puede modelar haciendo un arma fantasma y poniendo una restricción al problema que asegure la existencia de las armas fantasmas necesarias para crear el arma final. Estas armas fantasmas se modelan como armas de daño 0 y dividiendo los recursos necesarios para construirla entre los días disponibles.\n",
    "\n",
    "La restriccion a agregar por cada arma que tenga dependencia, donde $wdaño_armaj$ es el arma que depende el arma j:\n",
    "\n",
    "- $ \\forall_{i} \\forall_{j} \\sum_{k}^{i-1} armas\\_j\\_const\\_dia\\_i_{k(wdaño_armaj)} \\ge \\sum_{k}^{i} armas\\_j\\_const\\_dia\\_i\\_{kj} $ : La cantidad de armas de las que depende es mayor a la cantidad de las armas que existe.\n",
    "\n",
    "## Función objetivo\n",
    "\n",
    "Básicamente cualquier solución factible del problema satisface el objetivo de sobrevivir, aunque se podría buscar las que minimizan o maximizan ciertos criterios para cumplir ciertos logros. Por ejemplo:\n",
    "\n",
    "- $\\max \\sum_i \\sum_j arma\\_j\\_uso\\_dia\\_i_{ij}$ : Maximiza el poder de la defensa del castillo.\n",
    "- $\\min \\sum_i \\sum_j armas\\_j\\_const\\_dia\\_i_{ij}$ : Minimiza la cantidad de armas construidas para la defensa\n"
   ]
  },
  {
   "cell_type": "markdown",
   "metadata": {},
   "source": []
  }
 ],
 "metadata": {
  "interpreter": {
   "hash": "31f2aee4e71d21fbe5cf8b01ff0e069b9275f58929596ceb00d14d90e3e16cd6"
  },
  "kernelspec": {
   "display_name": "Python 3.6.9 64-bit",
   "name": "python3"
  },
  "language_info": {
   "name": "python",
   "version": ""
  }
 },
 "nbformat": 4,
 "nbformat_minor": 2
}